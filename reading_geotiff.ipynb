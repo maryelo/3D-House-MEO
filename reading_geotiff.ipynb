{
 "cells": [
  {
   "cell_type": "code",
   "execution_count": 62,
   "metadata": {},
   "outputs": [],
   "source": [
    "from osgeo import gdal\n",
    "import matplotlib.pyplot as plt\n",
    "import rasterio \n",
    "from rasterio.plot import show\n",
    "import geopandas as gpd\n",
    "from rasterio.windows import Window\n"
   ]
  },
  {
   "cell_type": "markdown",
   "metadata": {},
   "source": [
    "## Opening the big geotiff file via the window function ( first trial) "
   ]
  },
  {
   "cell_type": "code",
   "execution_count": 76,
   "metadata": {},
   "outputs": [
    {
     "ename": "SyntaxError",
     "evalue": "positional argument follows keyword argument (<ipython-input-76-554f22d51152>, line 7)",
     "output_type": "error",
     "traceback": [
      "\u001b[1;36m  File \u001b[1;32m\"<ipython-input-76-554f22d51152>\"\u001b[1;36m, line \u001b[1;32m7\u001b[0m\n\u001b[1;33m    w = src.read(1, window=Window,(width/2, height/2 , width/7, height/7))\u001b[0m\n\u001b[1;37m                                 ^\u001b[0m\n\u001b[1;31mSyntaxError\u001b[0m\u001b[1;31m:\u001b[0m positional argument follows keyword argument\n"
     ]
    }
   ],
   "source": [
    "with rasterio.open(\"DHMVIIDSMRAS1m_k13.tif\") as src:\n",
    "    print(src.shape)\n",
    "window = (width,height)\n",
    "\n",
    "width = 32000\n",
    "height = 20000\n",
    "w = src.read(1, window=Window,(width/2, height/2 , width/7, height/7))\n",
    "print(w.shape)\n",
    "# rasterio.plot.show(w, cmap='terarain')"
   ]
  },
  {
   "cell_type": "markdown",
   "metadata": {},
   "source": [
    "##Second trial"
   ]
  },
  {
   "cell_type": "code",
   "execution_count": null,
   "metadata": {},
   "outputs": [],
   "source": [
    "from rasterio.windows import Window"
   ]
  },
  {
   "cell_type": "code",
   "execution_count": 2,
   "metadata": {},
   "outputs": [],
   "source": [
    "dataset = gdal.Open('DHMVIIDSMRAS1m_k13.tif', gdal.GA_ReadOnly) \n",
    "# # Note GetRasterBand() takes band no. starting from 1 not 0\n",
    "band = dataset.GetRasterBand(1)\n",
    "arr = band.ReadAsArray()\n",
    "# plt.imshow(arr)"
   ]
  },
  {
   "cell_type": "code",
   "execution_count": null,
   "metadata": {},
   "outputs": [],
   "source": [
    "fp = r'DHMVIIDSMRAS1m_k13.tif'\n",
    "img = rasterio.open(fp)\n",
    "show(img)"
   ]
  },
  {
   "cell_type": "code",
   "execution_count": null,
   "metadata": {},
   "outputs": [],
   "source": [
    "\n",
    "import numpy as np\n",
    "import rasterio\n",
    "from rasterio.warp import calculate_default_transform, reproject, Resampling\n",
    "\n",
    "dst_crs = 'EPSG:4326'\n",
    "\n",
    "with rasterio.open('DHMVIIDSMRAS1m_k13.tif') as src:\n",
    "    transform, width, height = calculate_default_transform(\n",
    "        src.crs, dst_crs, src.width, src.height, *src.bounds)\n",
    "    kwargs = src.meta.copy()\n",
    "    kwargs.update({\n",
    "        'crs': dst_crs,\n",
    "        'transform': transform,\n",
    "        'width': width,\n",
    "        'height': height\n",
    "    })\n",
    "\n",
    "    with rasterio.open('DHMVIIDSMRAS1m_k13.tif', 'w', **kwargs) as dst:\n",
    "        for i in range(1, src.count + 1):\n",
    "            reproject(\n",
    "                source=rasterio.band(src, i),\n",
    "                destination=rasterio.band(dst, i),\n",
    "                src_transform=src.transform,\n",
    "                src_crs=src.crs,\n",
    "                dst_transform=transform,\n",
    "                dst_crs=dst_crs,\n",
    "                resampling=Resampling.nearest)\n"
   ]
  },
  {
   "cell_type": "code",
   "execution_count": null,
   "metadata": {},
   "outputs": [],
   "source": [
    "fp = r'DHMVIIDSMRAS1m_k13.tif'\n",
    "img = rasterio.open(fp)\n",
    "show(img)"
   ]
  },
  {
   "cell_type": "code",
   "execution_count": 78,
   "metadata": {},
   "outputs": [],
   "source": [
    "%matplotlib inline\n",
    "import matplotlib.pyplot as plt\n",
    "import geopandas as gpd\n",
    "import rasterio\n",
    "from rasterio.plot import show\n",
    "from osgeo import gdal\n",
    "import os\n",
    "import pandas as pd\n",
    "import numpy as np"
   ]
  },
  {
   "cell_type": "code",
   "execution_count": 79,
   "metadata": {},
   "outputs": [
    {
     "name": "stdout",
     "output_type": "stream",
     "text": [
      "<bound method DataFrame.all of         Date   OpnDatum1   OpnDatum2  \\\n",
      "0   20150305  2015-03-05        None   \n",
      "1   20150306  2015-03-06        None   \n",
      "2   20150308  2015-03-08        None   \n",
      "3   20150310  2015-03-10        None   \n",
      "4   20150311  2015-03-11        None   \n",
      "5   20150312  2015-03-12        None   \n",
      "6   20150306  2015-03-05  2015-03-06   \n",
      "7   20150308  2015-03-06  2015-03-08   \n",
      "8   20150308  2015-03-08  2015-03-10   \n",
      "9   20150311  2015-03-10  2015-03-11   \n",
      "10  20150312  2015-03-11  2015-03-12   \n",
      "11  20150313  2015-03-12  2015-03-13   \n",
      "\n",
      "                                             geometry  \n",
      "0   POLYGON Z ((98000.000 217783.121 0.000, 97997....  \n",
      "1   POLYGON Z ((98000.000 217465.109 0.000, 98000....  \n",
      "2   POLYGON Z ((98000.000 213046.450 0.000, 98000....  \n",
      "3   POLYGON Z ((98000.000 209075.241 0.000, 98000....  \n",
      "4   POLYGON Z ((98000.000 204542.782 0.000, 98000....  \n",
      "5   POLYGON Z ((98000.000 200890.510 0.000, 98000....  \n",
      "6   POLYGON Z ((98000.000 217783.121 0.000, 98000....  \n",
      "7   POLYGON Z ((98000.000 213353.093 0.000, 98000....  \n",
      "8   POLYGON Z ((98000.000 209451.047 0.000, 98000....  \n",
      "9   MULTIPOLYGON Z (((83711.340 207094.910 0.000, ...  \n",
      "10  POLYGON Z ((98000.000 201229.034 0.000, 98000....  \n",
      "11  MULTIPOLYGON Z (((66000.000 199637.274 0.000, ...  >\n"
     ]
    },
    {
     "data": {
      "text/html": [
       "<div>\n",
       "<style scoped>\n",
       "    .dataframe tbody tr th:only-of-type {\n",
       "        vertical-align: middle;\n",
       "    }\n",
       "\n",
       "    .dataframe tbody tr th {\n",
       "        vertical-align: top;\n",
       "    }\n",
       "\n",
       "    .dataframe thead th {\n",
       "        text-align: right;\n",
       "    }\n",
       "</style>\n",
       "<table border=\"1\" class=\"dataframe\">\n",
       "  <thead>\n",
       "    <tr style=\"text-align: right;\">\n",
       "      <th></th>\n",
       "      <th>Date</th>\n",
       "      <th>OpnDatum1</th>\n",
       "      <th>OpnDatum2</th>\n",
       "      <th>geometry</th>\n",
       "    </tr>\n",
       "  </thead>\n",
       "  <tbody>\n",
       "    <tr>\n",
       "      <th>0</th>\n",
       "      <td>20150305</td>\n",
       "      <td>2015-03-05</td>\n",
       "      <td>None</td>\n",
       "      <td>POLYGON Z ((98000.000 217783.121 0.000, 97997....</td>\n",
       "    </tr>\n",
       "    <tr>\n",
       "      <th>1</th>\n",
       "      <td>20150306</td>\n",
       "      <td>2015-03-06</td>\n",
       "      <td>None</td>\n",
       "      <td>POLYGON Z ((98000.000 217465.109 0.000, 98000....</td>\n",
       "    </tr>\n",
       "    <tr>\n",
       "      <th>2</th>\n",
       "      <td>20150308</td>\n",
       "      <td>2015-03-08</td>\n",
       "      <td>None</td>\n",
       "      <td>POLYGON Z ((98000.000 213046.450 0.000, 98000....</td>\n",
       "    </tr>\n",
       "    <tr>\n",
       "      <th>3</th>\n",
       "      <td>20150310</td>\n",
       "      <td>2015-03-10</td>\n",
       "      <td>None</td>\n",
       "      <td>POLYGON Z ((98000.000 209075.241 0.000, 98000....</td>\n",
       "    </tr>\n",
       "    <tr>\n",
       "      <th>4</th>\n",
       "      <td>20150311</td>\n",
       "      <td>2015-03-11</td>\n",
       "      <td>None</td>\n",
       "      <td>POLYGON Z ((98000.000 204542.782 0.000, 98000....</td>\n",
       "    </tr>\n",
       "  </tbody>\n",
       "</table>\n",
       "</div>"
      ],
      "text/plain": [
       "       Date   OpnDatum1 OpnDatum2  \\\n",
       "0  20150305  2015-03-05      None   \n",
       "1  20150306  2015-03-06      None   \n",
       "2  20150308  2015-03-08      None   \n",
       "3  20150310  2015-03-10      None   \n",
       "4  20150311  2015-03-11      None   \n",
       "\n",
       "                                            geometry  \n",
       "0  POLYGON Z ((98000.000 217783.121 0.000, 97997....  \n",
       "1  POLYGON Z ((98000.000 217465.109 0.000, 98000....  \n",
       "2  POLYGON Z ((98000.000 213046.450 0.000, 98000....  \n",
       "3  POLYGON Z ((98000.000 209075.241 0.000, 98000....  \n",
       "4  POLYGON Z ((98000.000 204542.782 0.000, 98000....  "
      ]
     },
     "execution_count": 79,
     "metadata": {},
     "output_type": "execute_result"
    }
   ],
   "source": [
    "PointData = gpd.read_file('Dsm13/DHMVII_vdc_k13.shp')\n",
    "print(PointData.all)\n",
    "PointData.head()\n",
    "# PointData.plot()"
   ]
  },
  {
   "cell_type": "code",
   "execution_count": 88,
   "metadata": {},
   "outputs": [
    {
     "name": "stdout",
     "output_type": "stream",
     "text": [
      "<function Info at 0x000001C78DFC91F8>\n"
     ]
    }
   ],
   "source": [
    "info_options = gdal.InfoOptions(computeMinMax=True, stats=True)\n",
    "print(gdal.Info)"
   ]
  },
  {
   "cell_type": "code",
   "execution_count": 81,
   "metadata": {},
   "outputs": [
    {
     "name": "stdout",
     "output_type": "stream",
     "text": [
      "EPSG:31370\n",
      "1\n"
     ]
    },
    {
     "ename": "AttributeError",
     "evalue": "'DatasetReader' object has no attribute 'head'",
     "output_type": "error",
     "traceback": [
      "\u001b[1;31m---------------------------------------------------------------------------\u001b[0m",
      "\u001b[1;31mAttributeError\u001b[0m                            Traceback (most recent call last)",
      "\u001b[1;32m<ipython-input-81-bf579c89cf56>\u001b[0m in \u001b[0;36m<module>\u001b[1;34m()\u001b[0m\n\u001b[0;32m      4\u001b[0m \u001b[0mprint\u001b[0m\u001b[1;33m(\u001b[0m\u001b[0mTiffRaster\u001b[0m\u001b[1;33m.\u001b[0m\u001b[0mcrs\u001b[0m\u001b[1;33m)\u001b[0m\u001b[1;33m\u001b[0m\u001b[1;33m\u001b[0m\u001b[0m\n\u001b[0;32m      5\u001b[0m \u001b[0mprint\u001b[0m\u001b[1;33m(\u001b[0m\u001b[0mTiffRaster\u001b[0m\u001b[1;33m.\u001b[0m\u001b[0mcount\u001b[0m\u001b[1;33m)\u001b[0m\u001b[1;33m\u001b[0m\u001b[1;33m\u001b[0m\u001b[0m\n\u001b[1;32m----> 6\u001b[1;33m \u001b[0mprint\u001b[0m\u001b[1;33m(\u001b[0m\u001b[0mTiffRaster\u001b[0m\u001b[1;33m.\u001b[0m\u001b[0mhead\u001b[0m\u001b[1;33m)\u001b[0m\u001b[1;33m\u001b[0m\u001b[1;33m\u001b[0m\u001b[0m\n\u001b[0m",
      "\u001b[1;31mAttributeError\u001b[0m: 'DatasetReader' object has no attribute 'head'"
     ]
    }
   ],
   "source": [
    "TiffRaster = rasterio.open('DHMVIIDTMRAS1m_k13.tif')\n",
    "\n",
    "#open raster file\n",
    "print(TiffRaster.crs)\n",
    "print(TiffRaster.count)\n",
    "print(TiffRaster.head)"
   ]
  },
  {
   "cell_type": "code",
   "execution_count": 21,
   "metadata": {},
   "outputs": [
    {
     "data": {
      "text/plain": [
       "<AxesSubplot:>"
      ]
     },
     "execution_count": 21,
     "metadata": {},
     "output_type": "execute_result"
    },
    {
     "data": {
      "image/png": "[encoded data removed]",
      "text/plain": [
       "<Figure size 864x864 with 1 Axes>"
      ]
     },
     "metadata": {
      "needs_background": "light"
     },
     "output_type": "display_data"
    }
   ],
   "source": [
    "#show point and raster on a matplotlib plot\n",
    "fig, ax = plt.subplots(figsize=(12,12))\n",
    "PointData.plot(ax=ax, color='orangered')\n",
    "show(TiffRaster, ax=ax)"
   ]
  },
  {
   "cell_type": "code",
   "execution_count": 27,
   "metadata": {},
   "outputs": [
    {
     "ename": "TypeError",
     "evalue": "'DatasetReader' object is not subscriptable",
     "output_type": "error",
     "traceback": [
      "\u001b[1;31m---------------------------------------------------------------------------\u001b[0m",
      "\u001b[1;31mTypeError\u001b[0m                                 Traceback (most recent call last)",
      "\u001b[1;32m<ipython-input-27-c5598be7c051>\u001b[0m in \u001b[0;36m<module>\u001b[1;34m()\u001b[0m\n\u001b[0;32m      1\u001b[0m \u001b[1;31m#extract xy from point geometry\u001b[0m\u001b[1;33m\u001b[0m\u001b[1;33m\u001b[0m\u001b[1;33m\u001b[0m\u001b[0m\n\u001b[1;32m----> 2\u001b[1;33m \u001b[1;32mfor\u001b[0m \u001b[0mpoint\u001b[0m \u001b[1;32min\u001b[0m \u001b[0mTiffRaster\u001b[0m \u001b[1;33m[\u001b[0m\u001b[1;34m'geometry'\u001b[0m\u001b[1;33m]\u001b[0m\u001b[1;33m:\u001b[0m\u001b[1;33m\u001b[0m\u001b[1;33m\u001b[0m\u001b[0m\n\u001b[0m\u001b[0;32m      3\u001b[0m     \u001b[0mprint\u001b[0m\u001b[1;33m(\u001b[0m\u001b[0mpoint\u001b[0m\u001b[1;33m.\u001b[0m\u001b[0mxy\u001b[0m\u001b[1;33m[\u001b[0m\u001b[1;36m0\u001b[0m\u001b[1;33m]\u001b[0m\u001b[1;33m[\u001b[0m\u001b[1;36m0\u001b[0m\u001b[1;33m]\u001b[0m\u001b[1;33m,\u001b[0m\u001b[0mpoint\u001b[0m\u001b[1;33m.\u001b[0m\u001b[0mxy\u001b[0m\u001b[1;33m[\u001b[0m\u001b[1;36m1\u001b[0m\u001b[1;33m]\u001b[0m\u001b[1;33m[\u001b[0m\u001b[1;36m0\u001b[0m\u001b[1;33m]\u001b[0m\u001b[1;33m)\u001b[0m\u001b[1;33m\u001b[0m\u001b[1;33m\u001b[0m\u001b[0m\n",
      "\u001b[1;31mTypeError\u001b[0m: 'DatasetReader' object is not subscriptable"
     ]
    }
   ],
   "source": [
    "#extract xy from point geometry\n",
    "for point in TiffRaster ['geometry']:\n",
    "    print(point.xy[0][0],point.xy[1][0])"
   ]
  },
  {
   "cell_type": "code",
   "execution_count": 32,
   "metadata": {},
   "outputs": [
    {
     "ename": "NameError",
     "evalue": "name 'GA_ReadOnly' is not defined",
     "output_type": "error",
     "traceback": [
      "\u001b[1;31m---------------------------------------------------------------------------\u001b[0m",
      "\u001b[1;31mNameError\u001b[0m                                 Traceback (most recent call last)",
      "\u001b[1;32m<ipython-input-32-7c3e66fc90f9>\u001b[0m in \u001b[0;36m<module>\u001b[1;34m()\u001b[0m\n\u001b[1;32m----> 1\u001b[1;33m \u001b[0mimage\u001b[0m \u001b[1;33m=\u001b[0m \u001b[0mgdal\u001b[0m\u001b[1;33m.\u001b[0m\u001b[0mOpen\u001b[0m\u001b[1;33m(\u001b[0m\u001b[1;34m'DHMVIIDSMRAS1m_k13.tif'\u001b[0m\u001b[1;33m,\u001b[0m\u001b[0mGA_ReadOnly\u001b[0m\u001b[1;33m)\u001b[0m\u001b[1;33m\u001b[0m\u001b[1;33m\u001b[0m\u001b[0m\n\u001b[0m\u001b[0;32m      2\u001b[0m \u001b[0mband\u001b[0m \u001b[1;33m=\u001b[0m \u001b[0mdataset\u001b[0m\u001b[1;33m.\u001b[0m\u001b[0mGetRasterband\u001b[0m\u001b[1;33m(\u001b[0m\u001b[1;36m1\u001b[0m\u001b[1;33m)\u001b[0m\u001b[1;33m\u001b[0m\u001b[1;33m\u001b[0m\u001b[0m\n\u001b[0;32m      3\u001b[0m \u001b[0marr\u001b[0m \u001b[1;33m=\u001b[0m \u001b[0mband\u001b[0m\u001b[1;33m.\u001b[0m\u001b[0mReadAsArray\u001b[0m\u001b[1;33m(\u001b[0m\u001b[1;33m)\u001b[0m\u001b[1;33m\u001b[0m\u001b[1;33m\u001b[0m\u001b[0m\n\u001b[0;32m      4\u001b[0m \u001b[0mplt\u001b[0m\u001b[1;33m.\u001b[0m\u001b[0mimshow\u001b[0m\u001b[1;33m(\u001b[0m\u001b[0marr\u001b[0m\u001b[1;33m)\u001b[0m\u001b[1;33m\u001b[0m\u001b[1;33m\u001b[0m\u001b[0m\n",
      "\u001b[1;31mNameError\u001b[0m: name 'GA_ReadOnly' is not defined"
     ]
    }
   ],
   "source": [
    "image = gdal.Open('DHMVIIDSMRAS1m_k13.tif',GA_ReadOnly)\n",
    "band = dataset.GetRasterband(1)\n",
    "arr = band.ReadAsArray()\n",
    "plt.imshow(arr)\n"
   ]
  },
  {
   "cell_type": "code",
   "execution_count": null,
   "metadata": {},
   "outputs": [],
   "source": []
  },
  {
   "cell_type": "code",
   "execution_count": 17,
   "metadata": {},
   "outputs": [
    {
     "data": {
      "text/plain": [
       "[0.0, 0.0, 0.0, 0.0]"
      ]
     },
     "execution_count": 17,
     "metadata": {},
     "output_type": "execute_result"
    }
   ],
   "source": [
    "img =image.GetRasterBand(1)\n",
    "img.GetStatistics( True, True )"
   ]
  },
  {
   "cell_type": "code",
   "execution_count": 18,
   "metadata": {},
   "outputs": [
    {
     "name": "stdout",
     "output_type": "stream",
     "text": [
      "<property object at 0x0000029B96051548>\n"
     ]
    }
   ],
   "source": [
    "from shapely.geometry import MultiPoint\n",
    "print (MultiPoint.bounds)"
   ]
  },
  {
   "cell_type": "code",
   "execution_count": 19,
   "metadata": {},
   "outputs": [
    {
     "data": {
      "text/plain": [
       "9.0"
      ]
     },
     "execution_count": 19,
     "metadata": {},
     "output_type": "execute_result"
    }
   ],
   "source": []
  },
  {
   "cell_type": "code",
   "execution_count": 20,
   "metadata": {},
   "outputs": [],
   "source": [
    "import rasterio\n",
    "from rasterio.enums import Resampling\n",
    "\n",
    "upscale_factor = 2\n",
    "\n",
    "    "
   ]
  },
  {
   "cell_type": "code",
   "execution_count": null,
   "metadata": {},
   "outputs": [],
   "source": [
    "with rasterio.open('DHMVIIDSMRAS1m_k13.tif') as dataset:\n",
    "\n",
    "    # resample data to target shape\n",
    "    data = dataset.read(out_shape=(dataset.count,\n",
    "            int(dataset.height * upscale_factor),\n",
    "            int(dataset.width * upscale_factor)\n",
    "        ),\n",
    "        resampling=Resampling.bilinear\n",
    "    )\n",
    "\n",
    "    # scale image transform\n",
    "    transform = dataset.transform * dataset.transform.scale(\n",
    "        (dataset.width / data.shape[-1]),\n",
    "        (dataset.height / data.shape[-2]))"
   ]
  },
  {
   "cell_type": "code",
   "execution_count": 21,
   "metadata": {},
   "outputs": [],
   "source": [
    "import georasters as g"
   ]
  },
  {
   "cell_type": "code",
   "execution_count": null,
   "metadata": {},
   "outputs": [],
   "source": []
  }
 ],
 "metadata": {
  "kernelspec": {
   "display_name": "Python 3",
   "language": "python",
   "name": "python3"
  },
  "language_info": {
   "codemirror_mode": {
    "name": "ipython",
    "version": 3
   },
   "file_extension": ".py",
   "mimetype": "text/x-python",
   "name": "python",
   "nbconvert_exporter": "python",
   "pygments_lexer": "ipython3",
   "version": "3.7.9"
  }
 },
 "nbformat": 4,
 "nbformat_minor": 4
}
